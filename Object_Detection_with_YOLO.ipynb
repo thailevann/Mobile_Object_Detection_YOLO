{
  "nbformat": 4,
  "nbformat_minor": 0,
  "metadata": {
    "colab": {
      "provenance": [],
      "gpuType": "T4"
    },
    "kernelspec": {
      "name": "python3",
      "display_name": "Python 3"
    },
    "language_info": {
      "name": "python"
    },
    "accelerator": "GPU"
  },
  "cells": [
    {
      "cell_type": "code",
      "execution_count": 1,
      "metadata": {
        "colab": {
          "base_uri": "https://localhost:8080/"
        },
        "id": "-9b8Z_dT4KFA",
        "outputId": "71be773d-33c4-45db-8054-b3aaa61c4ddb"
      },
      "outputs": [
        {
          "output_type": "stream",
          "name": "stdout",
          "text": [
            "Cloning into 'yolov5'...\n",
            "remote: Enumerating objects: 2870, done.\u001b[K\n",
            "remote: Total 2870 (delta 0), reused 0 (delta 0), pack-reused 2870\u001b[K\n",
            "Receiving objects: 100% (2870/2870), 6.54 MiB | 11.08 MiB/s, done.\n",
            "Resolving deltas: 100% (1907/1907), done.\n"
          ]
        }
      ],
      "source": [
        "#install yolov5\n",
        "!git clone https://github.com/jeffxtang/yolov5\n"
      ]
    },
    {
      "cell_type": "code",
      "source": [
        "cd yolov5"
      ],
      "metadata": {
        "colab": {
          "base_uri": "https://localhost:8080/"
        },
        "id": "fhreQdut6F94",
        "outputId": "489a0c2c-e2ef-434b-ffd1-9dff664c8633"
      },
      "execution_count": 2,
      "outputs": [
        {
          "output_type": "stream",
          "name": "stdout",
          "text": [
            "/content/yolov5\n"
          ]
        }
      ]
    },
    {
      "cell_type": "code",
      "source": [
        "!pip install -r /content/yolov5/requirements.txt"
      ],
      "metadata": {
        "colab": {
          "base_uri": "https://localhost:8080/"
        },
        "id": "SqwmpqAj6I5b",
        "outputId": "2bd5ea43-abe7-4a62-e4d4-367cc675ac0b"
      },
      "execution_count": 3,
      "outputs": [
        {
          "output_type": "stream",
          "name": "stdout",
          "text": [
            "Requirement already satisfied: Cython in /usr/local/lib/python3.10/dist-packages (from -r /content/yolov5/requirements.txt (line 4)) (3.0.10)\n",
            "Requirement already satisfied: matplotlib>=3.2.2 in /usr/local/lib/python3.10/dist-packages (from -r /content/yolov5/requirements.txt (line 5)) (3.7.1)\n",
            "Requirement already satisfied: numpy>=1.18.5 in /usr/local/lib/python3.10/dist-packages (from -r /content/yolov5/requirements.txt (line 6)) (1.25.2)\n",
            "Requirement already satisfied: opencv-python>=4.1.2 in /usr/local/lib/python3.10/dist-packages (from -r /content/yolov5/requirements.txt (line 7)) (4.8.0.76)\n",
            "Requirement already satisfied: pillow in /usr/local/lib/python3.10/dist-packages (from -r /content/yolov5/requirements.txt (line 8)) (9.4.0)\n",
            "Requirement already satisfied: PyYAML>=5.3 in /usr/local/lib/python3.10/dist-packages (from -r /content/yolov5/requirements.txt (line 9)) (6.0.1)\n",
            "Requirement already satisfied: scipy>=1.4.1 in /usr/local/lib/python3.10/dist-packages (from -r /content/yolov5/requirements.txt (line 10)) (1.11.4)\n",
            "Requirement already satisfied: tensorboard>=2.2 in /usr/local/lib/python3.10/dist-packages (from -r /content/yolov5/requirements.txt (line 11)) (2.15.2)\n",
            "Requirement already satisfied: torch>=1.6.0 in /usr/local/lib/python3.10/dist-packages (from -r /content/yolov5/requirements.txt (line 12)) (2.2.1+cu121)\n",
            "Requirement already satisfied: torchvision>=0.7.0 in /usr/local/lib/python3.10/dist-packages (from -r /content/yolov5/requirements.txt (line 13)) (0.17.1+cu121)\n",
            "Requirement already satisfied: tqdm>=4.41.0 in /usr/local/lib/python3.10/dist-packages (from -r /content/yolov5/requirements.txt (line 14)) (4.66.2)\n",
            "Requirement already satisfied: contourpy>=1.0.1 in /usr/local/lib/python3.10/dist-packages (from matplotlib>=3.2.2->-r /content/yolov5/requirements.txt (line 5)) (1.2.1)\n",
            "Requirement already satisfied: cycler>=0.10 in /usr/local/lib/python3.10/dist-packages (from matplotlib>=3.2.2->-r /content/yolov5/requirements.txt (line 5)) (0.12.1)\n",
            "Requirement already satisfied: fonttools>=4.22.0 in /usr/local/lib/python3.10/dist-packages (from matplotlib>=3.2.2->-r /content/yolov5/requirements.txt (line 5)) (4.51.0)\n",
            "Requirement already satisfied: kiwisolver>=1.0.1 in /usr/local/lib/python3.10/dist-packages (from matplotlib>=3.2.2->-r /content/yolov5/requirements.txt (line 5)) (1.4.5)\n",
            "Requirement already satisfied: packaging>=20.0 in /usr/local/lib/python3.10/dist-packages (from matplotlib>=3.2.2->-r /content/yolov5/requirements.txt (line 5)) (24.0)\n",
            "Requirement already satisfied: pyparsing>=2.3.1 in /usr/local/lib/python3.10/dist-packages (from matplotlib>=3.2.2->-r /content/yolov5/requirements.txt (line 5)) (3.1.2)\n",
            "Requirement already satisfied: python-dateutil>=2.7 in /usr/local/lib/python3.10/dist-packages (from matplotlib>=3.2.2->-r /content/yolov5/requirements.txt (line 5)) (2.8.2)\n",
            "Requirement already satisfied: absl-py>=0.4 in /usr/local/lib/python3.10/dist-packages (from tensorboard>=2.2->-r /content/yolov5/requirements.txt (line 11)) (1.4.0)\n",
            "Requirement already satisfied: grpcio>=1.48.2 in /usr/local/lib/python3.10/dist-packages (from tensorboard>=2.2->-r /content/yolov5/requirements.txt (line 11)) (1.62.1)\n",
            "Requirement already satisfied: google-auth<3,>=1.6.3 in /usr/local/lib/python3.10/dist-packages (from tensorboard>=2.2->-r /content/yolov5/requirements.txt (line 11)) (2.27.0)\n",
            "Requirement already satisfied: google-auth-oauthlib<2,>=0.5 in /usr/local/lib/python3.10/dist-packages (from tensorboard>=2.2->-r /content/yolov5/requirements.txt (line 11)) (1.2.0)\n",
            "Requirement already satisfied: markdown>=2.6.8 in /usr/local/lib/python3.10/dist-packages (from tensorboard>=2.2->-r /content/yolov5/requirements.txt (line 11)) (3.6)\n",
            "Requirement already satisfied: protobuf!=4.24.0,>=3.19.6 in /usr/local/lib/python3.10/dist-packages (from tensorboard>=2.2->-r /content/yolov5/requirements.txt (line 11)) (3.20.3)\n",
            "Requirement already satisfied: requests<3,>=2.21.0 in /usr/local/lib/python3.10/dist-packages (from tensorboard>=2.2->-r /content/yolov5/requirements.txt (line 11)) (2.31.0)\n",
            "Requirement already satisfied: setuptools>=41.0.0 in /usr/local/lib/python3.10/dist-packages (from tensorboard>=2.2->-r /content/yolov5/requirements.txt (line 11)) (67.7.2)\n",
            "Requirement already satisfied: six>1.9 in /usr/local/lib/python3.10/dist-packages (from tensorboard>=2.2->-r /content/yolov5/requirements.txt (line 11)) (1.16.0)\n",
            "Requirement already satisfied: tensorboard-data-server<0.8.0,>=0.7.0 in /usr/local/lib/python3.10/dist-packages (from tensorboard>=2.2->-r /content/yolov5/requirements.txt (line 11)) (0.7.2)\n",
            "Requirement already satisfied: werkzeug>=1.0.1 in /usr/local/lib/python3.10/dist-packages (from tensorboard>=2.2->-r /content/yolov5/requirements.txt (line 11)) (3.0.2)\n",
            "Requirement already satisfied: filelock in /usr/local/lib/python3.10/dist-packages (from torch>=1.6.0->-r /content/yolov5/requirements.txt (line 12)) (3.13.4)\n",
            "Requirement already satisfied: typing-extensions>=4.8.0 in /usr/local/lib/python3.10/dist-packages (from torch>=1.6.0->-r /content/yolov5/requirements.txt (line 12)) (4.11.0)\n",
            "Requirement already satisfied: sympy in /usr/local/lib/python3.10/dist-packages (from torch>=1.6.0->-r /content/yolov5/requirements.txt (line 12)) (1.12)\n",
            "Requirement already satisfied: networkx in /usr/local/lib/python3.10/dist-packages (from torch>=1.6.0->-r /content/yolov5/requirements.txt (line 12)) (3.3)\n",
            "Requirement already satisfied: jinja2 in /usr/local/lib/python3.10/dist-packages (from torch>=1.6.0->-r /content/yolov5/requirements.txt (line 12)) (3.1.3)\n",
            "Requirement already satisfied: fsspec in /usr/local/lib/python3.10/dist-packages (from torch>=1.6.0->-r /content/yolov5/requirements.txt (line 12)) (2023.6.0)\n",
            "Collecting nvidia-cuda-nvrtc-cu12==12.1.105 (from torch>=1.6.0->-r /content/yolov5/requirements.txt (line 12))\n",
            "  Using cached nvidia_cuda_nvrtc_cu12-12.1.105-py3-none-manylinux1_x86_64.whl (23.7 MB)\n",
            "Collecting nvidia-cuda-runtime-cu12==12.1.105 (from torch>=1.6.0->-r /content/yolov5/requirements.txt (line 12))\n",
            "  Using cached nvidia_cuda_runtime_cu12-12.1.105-py3-none-manylinux1_x86_64.whl (823 kB)\n",
            "Collecting nvidia-cuda-cupti-cu12==12.1.105 (from torch>=1.6.0->-r /content/yolov5/requirements.txt (line 12))\n",
            "  Using cached nvidia_cuda_cupti_cu12-12.1.105-py3-none-manylinux1_x86_64.whl (14.1 MB)\n",
            "Collecting nvidia-cudnn-cu12==8.9.2.26 (from torch>=1.6.0->-r /content/yolov5/requirements.txt (line 12))\n",
            "  Using cached nvidia_cudnn_cu12-8.9.2.26-py3-none-manylinux1_x86_64.whl (731.7 MB)\n",
            "Collecting nvidia-cublas-cu12==12.1.3.1 (from torch>=1.6.0->-r /content/yolov5/requirements.txt (line 12))\n",
            "  Using cached nvidia_cublas_cu12-12.1.3.1-py3-none-manylinux1_x86_64.whl (410.6 MB)\n",
            "Collecting nvidia-cufft-cu12==11.0.2.54 (from torch>=1.6.0->-r /content/yolov5/requirements.txt (line 12))\n",
            "  Using cached nvidia_cufft_cu12-11.0.2.54-py3-none-manylinux1_x86_64.whl (121.6 MB)\n",
            "Collecting nvidia-curand-cu12==10.3.2.106 (from torch>=1.6.0->-r /content/yolov5/requirements.txt (line 12))\n",
            "  Using cached nvidia_curand_cu12-10.3.2.106-py3-none-manylinux1_x86_64.whl (56.5 MB)\n",
            "Collecting nvidia-cusolver-cu12==11.4.5.107 (from torch>=1.6.0->-r /content/yolov5/requirements.txt (line 12))\n",
            "  Using cached nvidia_cusolver_cu12-11.4.5.107-py3-none-manylinux1_x86_64.whl (124.2 MB)\n",
            "Collecting nvidia-cusparse-cu12==12.1.0.106 (from torch>=1.6.0->-r /content/yolov5/requirements.txt (line 12))\n",
            "  Using cached nvidia_cusparse_cu12-12.1.0.106-py3-none-manylinux1_x86_64.whl (196.0 MB)\n",
            "Collecting nvidia-nccl-cu12==2.19.3 (from torch>=1.6.0->-r /content/yolov5/requirements.txt (line 12))\n",
            "  Using cached nvidia_nccl_cu12-2.19.3-py3-none-manylinux1_x86_64.whl (166.0 MB)\n",
            "Collecting nvidia-nvtx-cu12==12.1.105 (from torch>=1.6.0->-r /content/yolov5/requirements.txt (line 12))\n",
            "  Using cached nvidia_nvtx_cu12-12.1.105-py3-none-manylinux1_x86_64.whl (99 kB)\n",
            "Requirement already satisfied: triton==2.2.0 in /usr/local/lib/python3.10/dist-packages (from torch>=1.6.0->-r /content/yolov5/requirements.txt (line 12)) (2.2.0)\n",
            "Collecting nvidia-nvjitlink-cu12 (from nvidia-cusolver-cu12==11.4.5.107->torch>=1.6.0->-r /content/yolov5/requirements.txt (line 12))\n",
            "  Using cached nvidia_nvjitlink_cu12-12.4.127-py3-none-manylinux2014_x86_64.whl (21.1 MB)\n",
            "Requirement already satisfied: cachetools<6.0,>=2.0.0 in /usr/local/lib/python3.10/dist-packages (from google-auth<3,>=1.6.3->tensorboard>=2.2->-r /content/yolov5/requirements.txt (line 11)) (5.3.3)\n",
            "Requirement already satisfied: pyasn1-modules>=0.2.1 in /usr/local/lib/python3.10/dist-packages (from google-auth<3,>=1.6.3->tensorboard>=2.2->-r /content/yolov5/requirements.txt (line 11)) (0.4.0)\n",
            "Requirement already satisfied: rsa<5,>=3.1.4 in /usr/local/lib/python3.10/dist-packages (from google-auth<3,>=1.6.3->tensorboard>=2.2->-r /content/yolov5/requirements.txt (line 11)) (4.9)\n",
            "Requirement already satisfied: requests-oauthlib>=0.7.0 in /usr/local/lib/python3.10/dist-packages (from google-auth-oauthlib<2,>=0.5->tensorboard>=2.2->-r /content/yolov5/requirements.txt (line 11)) (1.3.1)\n",
            "Requirement already satisfied: charset-normalizer<4,>=2 in /usr/local/lib/python3.10/dist-packages (from requests<3,>=2.21.0->tensorboard>=2.2->-r /content/yolov5/requirements.txt (line 11)) (3.3.2)\n",
            "Requirement already satisfied: idna<4,>=2.5 in /usr/local/lib/python3.10/dist-packages (from requests<3,>=2.21.0->tensorboard>=2.2->-r /content/yolov5/requirements.txt (line 11)) (3.7)\n",
            "Requirement already satisfied: urllib3<3,>=1.21.1 in /usr/local/lib/python3.10/dist-packages (from requests<3,>=2.21.0->tensorboard>=2.2->-r /content/yolov5/requirements.txt (line 11)) (2.0.7)\n",
            "Requirement already satisfied: certifi>=2017.4.17 in /usr/local/lib/python3.10/dist-packages (from requests<3,>=2.21.0->tensorboard>=2.2->-r /content/yolov5/requirements.txt (line 11)) (2024.2.2)\n",
            "Requirement already satisfied: MarkupSafe>=2.1.1 in /usr/local/lib/python3.10/dist-packages (from werkzeug>=1.0.1->tensorboard>=2.2->-r /content/yolov5/requirements.txt (line 11)) (2.1.5)\n",
            "Requirement already satisfied: mpmath>=0.19 in /usr/local/lib/python3.10/dist-packages (from sympy->torch>=1.6.0->-r /content/yolov5/requirements.txt (line 12)) (1.3.0)\n",
            "Requirement already satisfied: pyasn1<0.7.0,>=0.4.6 in /usr/local/lib/python3.10/dist-packages (from pyasn1-modules>=0.2.1->google-auth<3,>=1.6.3->tensorboard>=2.2->-r /content/yolov5/requirements.txt (line 11)) (0.6.0)\n",
            "Requirement already satisfied: oauthlib>=3.0.0 in /usr/local/lib/python3.10/dist-packages (from requests-oauthlib>=0.7.0->google-auth-oauthlib<2,>=0.5->tensorboard>=2.2->-r /content/yolov5/requirements.txt (line 11)) (3.2.2)\n",
            "Installing collected packages: nvidia-nvtx-cu12, nvidia-nvjitlink-cu12, nvidia-nccl-cu12, nvidia-curand-cu12, nvidia-cufft-cu12, nvidia-cuda-runtime-cu12, nvidia-cuda-nvrtc-cu12, nvidia-cuda-cupti-cu12, nvidia-cublas-cu12, nvidia-cusparse-cu12, nvidia-cudnn-cu12, nvidia-cusolver-cu12\n",
            "Successfully installed nvidia-cublas-cu12-12.1.3.1 nvidia-cuda-cupti-cu12-12.1.105 nvidia-cuda-nvrtc-cu12-12.1.105 nvidia-cuda-runtime-cu12-12.1.105 nvidia-cudnn-cu12-8.9.2.26 nvidia-cufft-cu12-11.0.2.54 nvidia-curand-cu12-10.3.2.106 nvidia-cusolver-cu12-11.4.5.107 nvidia-cusparse-cu12-12.1.0.106 nvidia-nccl-cu12-2.19.3 nvidia-nvjitlink-cu12-12.4.127 nvidia-nvtx-cu12-12.1.105\n"
          ]
        }
      ]
    },
    {
      "cell_type": "code",
      "source": [
        "#generate the optimized TorchScript lite model yolov5s.torchscript.ptl\n",
        "!python /content/yolov5/models/export.py"
      ],
      "metadata": {
        "colab": {
          "base_uri": "https://localhost:8080/"
        },
        "id": "LRejy3lt6edq",
        "outputId": "73d0c656-7546-40d7-ecc9-abc5e05b8cf2"
      },
      "execution_count": 4,
      "outputs": [
        {
          "output_type": "stream",
          "name": "stdout",
          "text": [
            "Namespace(weights='./yolov5s.pt', img_size=[640, 640], batch_size=1)\n",
            "Downloading https://github.com/ultralytics/yolov5/releases/download/v3.1/yolov5s.pt to ./yolov5s.pt...\n",
            "100% 14.5M/14.5M [00:00<00:00, 31.9MB/s]\n",
            "\n",
            "Fusing layers... \n",
            "Model Summary: 140 layers, 7.45958e+06 parameters, 0 gradients\n",
            "/usr/local/lib/python3.10/dist-packages/torch/functional.py:507: UserWarning: torch.meshgrid: in an upcoming release, it will be required to pass the indexing argument. (Triggered internally at ../aten/src/ATen/native/TensorShape.cpp:3549.)\n",
            "  return _VF.meshgrid(tensors, **kwargs)  # type: ignore[attr-defined]\n",
            "\n",
            "Starting TorchScript export with torch 2.2.1+cu121...\n",
            "/content/yolov5/./models/yolo.py:47: TracerWarning: Converting a tensor to a Python boolean might cause the trace to be incorrect. We can't record the data flow of Python values, so this value will be treated as a constant in the future. This means that the trace might not generalize to other inputs!\n",
            "  if self.grid[i].shape[2:4] != x[i].shape[2:4]:\n",
            "/usr/local/lib/python3.10/dist-packages/torch/jit/_trace.py:1074: TracerWarning: Encountering a list at the output of the tracer might cause the trace to be incorrect, this is only valid if the container structure does not change based on the module's inputs. Consider using a constant container instead (e.g. for `list`, use a `tuple` instead. for `dict`, use a `NamedTuple` instead). If you absolutely need this and know the side effects, pass strict=False to trace() to allow this behavior.\n",
            "  module._c._create_method_from_trace(\n",
            "TorchScript export success, saved as ./yolov5s.torchscript.ptl\n"
          ]
        }
      ]
    },
    {
      "cell_type": "markdown",
      "source": [
        "![image.png](data:image/png;base64,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)"
      ],
      "metadata": {
        "id": "EAi6DrU3X5sR"
      }
    }
  ]
}